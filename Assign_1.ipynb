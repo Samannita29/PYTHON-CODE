{
  "nbformat": 4,
  "nbformat_minor": 0,
  "metadata": {
    "kernelspec": {
      "display_name": "Python 3",
      "language": "python",
      "name": "python3"
    },
    "language_info": {
      "codemirror_mode": {
        "name": "ipython",
        "version": 3
      },
      "file_extension": ".py",
      "mimetype": "text/x-python",
      "name": "python",
      "nbconvert_exporter": "python",
      "pygments_lexer": "ipython3",
      "version": "3.7.6"
    },
    "colab": {
      "name": "Assign-1.ipynb",
      "provenance": [],
      "include_colab_link": true
    }
  },
  "cells": [
    {
      "cell_type": "markdown",
      "metadata": {
        "id": "view-in-github",
        "colab_type": "text"
      },
      "source": [
        "<a href=\"https://colab.research.google.com/github/Samannita29/PYTHON-CODE/blob/master/Assign_1.ipynb\" target=\"_parent\"><img src=\"https://colab.research.google.com/assets/colab-badge.svg\" alt=\"Open In Colab\"/></a>"
      ]
    },
    {
      "cell_type": "code",
      "metadata": {
        "id": "j1VKWH_ouhWZ",
        "colab_type": "code",
        "colab": {}
      },
      "source": [
        "fruit_list=[\"Apple\",\"orange\",\"grapes\"]\n",
        "list1=[]"
      ],
      "execution_count": null,
      "outputs": []
    },
    {
      "cell_type": "code",
      "metadata": {
        "id": "qhz3SqPBuhWh",
        "colab_type": "code",
        "colab": {}
      },
      "source": [
        "fruit_list=[\"Apple\",\"orange\",\"grapes\"]\n",
        "list1=[]\n",
        "for i in range(0,3) :\n",
        "    positions(fruit_list[i])\n",
        "   \n",
        "        \n",
        "\n",
        "    \n",
        "\n",
        "NUM = 31\n",
        "def positions(str): \n",
        "    for i in str: \n",
        "        con=((ord(i) & 31)) \n",
        "    list1.append(con)\n",
        "list1\n",
        "   \n",
        "        \n",
        "        "
      ],
      "execution_count": null,
      "outputs": []
    },
    {
      "cell_type": "code",
      "metadata": {
        "id": "UtAA_kg6uhWl",
        "colab_type": "code",
        "colab": {}
      },
      "source": [
        "NUM = 31\n",
        "   \n",
        "# Function to calculate the position \n",
        "# of characters \n",
        "def positions(str): \n",
        "    for i in str: \n",
        "           \n",
        "        # Performing AND operation \n",
        "        # with number 31 \n",
        "        print((ord(i) & 27), end =\" \") \n",
        "   "
      ],
      "execution_count": null,
      "outputs": []
    },
    {
      "cell_type": "code",
      "metadata": {
        "id": "rGvPskPiuhWo",
        "colab_type": "code",
        "colab": {}
      },
      "source": [
        "positions(\"apple\")"
      ],
      "execution_count": null,
      "outputs": []
    },
    {
      "cell_type": "code",
      "metadata": {
        "id": "qb_nYgRduhWr",
        "colab_type": "code",
        "colab": {}
      },
      "source": [
        "5 & 4"
      ],
      "execution_count": null,
      "outputs": []
    },
    {
      "cell_type": "code",
      "metadata": {
        "id": "OxU7wSHsuhWt",
        "colab_type": "code",
        "colab": {}
      },
      "source": [
        "1 & 31\n"
      ],
      "execution_count": null,
      "outputs": []
    },
    {
      "cell_type": "code",
      "metadata": {
        "id": "G2D8b7KJuhWx",
        "colab_type": "code",
        "colab": {}
      },
      "source": [
        "a=4 \n",
        "b=9\n",
        "if a==4 & b==4:\n",
        "    print('hello')\n",
        "else:\n",
        "    print(\"error\")"
      ],
      "execution_count": null,
      "outputs": []
    },
    {
      "cell_type": "code",
      "metadata": {
        "id": "7nmh160wuhW0",
        "colab_type": "code",
        "colab": {}
      },
      "source": [
        "56 & 89"
      ],
      "execution_count": null,
      "outputs": []
    },
    {
      "cell_type": "code",
      "metadata": {
        "id": "wWvB5GtLuhW2",
        "colab_type": "code",
        "colab": {}
      },
      "source": [
        "1 & 31"
      ],
      "execution_count": null,
      "outputs": []
    },
    {
      "cell_type": "code",
      "metadata": {
        "id": "_pFsSCYruhW4",
        "colab_type": "code",
        "colab": {}
      },
      "source": [
        "\n",
        "fruit_list=[\"Apple\",\"orange\",\"grapes\"]\n",
        "list1=[]\n",
        "str_conv=\"\"\n",
        "\n",
        "\n",
        "\n",
        "\n",
        "for fruit in fruit_list:\n",
        "    for i in fruit.lower(): \n",
        "        str_conv +=\"\".join(str(ord(i)-97+1))\n",
        "    list1.append(str_conv)\n",
        "    str_conv=\"\"\n",
        "\n",
        "  \n",
        "\n",
        "        \n",
        "list1\n",
        "\n"
      ],
      "execution_count": null,
      "outputs": []
    },
    {
      "cell_type": "code",
      "metadata": {
        "id": "-JSMNQOLuhW7",
        "colab_type": "code",
        "colab": {}
      },
      "source": [
        "positions(fruit_list[0])"
      ],
      "execution_count": null,
      "outputs": []
    },
    {
      "cell_type": "code",
      "metadata": {
        "id": "e7S9n2BtuhW9",
        "colab_type": "code",
        "colab": {}
      },
      "source": [
        "a=10\n",
        "b=str(a)"
      ],
      "execution_count": null,
      "outputs": []
    },
    {
      "cell_type": "code",
      "metadata": {
        "id": "J4EbkQ2buhW_",
        "colab_type": "code",
        "colab": {}
      },
      "source": [
        "import string\n",
        "str(123)"
      ],
      "execution_count": null,
      "outputs": []
    },
    {
      "cell_type": "code",
      "metadata": {
        "id": "EBLX8aaduhXF",
        "colab_type": "code",
        "colab": {}
      },
      "source": [
        "str(10)"
      ],
      "execution_count": null,
      "outputs": []
    },
    {
      "cell_type": "code",
      "metadata": {
        "id": "XIseSJFTuhXI",
        "colab_type": "code",
        "colab": {}
      },
      "source": [
        "print(str(12))"
      ],
      "execution_count": null,
      "outputs": []
    },
    {
      "cell_type": "code",
      "metadata": {
        "id": "UbgekKKLuhXJ",
        "colab_type": "code",
        "colab": {}
      },
      "source": [
        "print(\"%s\",str(20))"
      ],
      "execution_count": null,
      "outputs": []
    },
    {
      "cell_type": "code",
      "metadata": {
        "id": "gSWNzcLkuhXL",
        "colab_type": "code",
        "colab": {}
      },
      "source": [
        "pi=3.14\n",
        "\"the value of pi is \"+str(pi)"
      ],
      "execution_count": null,
      "outputs": []
    },
    {
      "cell_type": "code",
      "metadata": {
        "id": "cVu5F9GpuhXN",
        "colab_type": "code",
        "colab": {}
      },
      "source": [
        "pi=3.14"
      ],
      "execution_count": null,
      "outputs": []
    },
    {
      "cell_type": "code",
      "metadata": {
        "id": "9cMSJiGPuhXR",
        "colab_type": "code",
        "colab": {}
      },
      "source": [
        ""
      ],
      "execution_count": null,
      "outputs": []
    },
    {
      "cell_type": "code",
      "metadata": {
        "id": "EtCNG3n3uhXU",
        "colab_type": "code",
        "colab": {}
      },
      "source": [
        ""
      ],
      "execution_count": null,
      "outputs": []
    },
    {
      "cell_type": "markdown",
      "metadata": {
        "id": "LZIlHSj5uhXW",
        "colab_type": "text"
      },
      "source": [
        "# fibonacci series"
      ]
    },
    {
      "cell_type": "code",
      "metadata": {
        "id": "P0n4YWRUuhXX",
        "colab_type": "code",
        "colab": {},
        "outputId": "82e9b79d-63da-440e-a601-92b24b571b30"
      },
      "source": [
        "num=int(input(\"enter the number of terms\"))\n",
        "n0=0\n",
        "n1=1\n",
        "count=1\n",
        "if num<=0 :\n",
        "    print('enter a positive number')\n",
        "elif num==1:\n",
        "    print(n0)\n",
        "else:\n",
        "    while count<=num:\n",
        "        if count%2==0:\n",
        "            print('even')\n",
        "        \n",
        "        elif count%2!=0:\n",
        "            print(n0)\n",
        "        nth=n0+n1\n",
        "    \n",
        "        n0=n1\n",
        "        n1=nth\n",
        "        count +=1"
      ],
      "execution_count": null,
      "outputs": [
        {
          "output_type": "stream",
          "text": [
            "enter the number of terms5\n",
            "0\n",
            "even\n",
            "1\n",
            "even\n",
            "3\n"
          ],
          "name": "stdout"
        }
      ]
    },
    {
      "cell_type": "code",
      "metadata": {
        "id": "9_1DVJ85uhXZ",
        "colab_type": "code",
        "colab": {},
        "outputId": "fbd71f2e-efcc-4e34-c24a-f82cf425b652"
      },
      "source": [
        "num=int(input(\"ENTER THE TOTAL NUMBER OF TERMS\"))\n",
        "element=[]\n",
        "suma=0\n",
        "for ele in range(0,num):\n",
        "    number=int(input(\"enter the number\"))\n",
        "    element.append(number)\n",
        "average=sum(element)/num\n",
        "average"
      ],
      "execution_count": null,
      "outputs": [
        {
          "output_type": "stream",
          "text": [
            "ENTER THE TOTAL NUMBER OF TERMS5\n",
            "enter the number8\n",
            "enter the number89\n",
            "enter the number4\n",
            "enter the number1\n",
            "enter the number6\n"
          ],
          "name": "stdout"
        },
        {
          "output_type": "execute_result",
          "data": {
            "text/plain": [
              "21.6"
            ]
          },
          "metadata": {
            "tags": []
          },
          "execution_count": 42
        }
      ]
    },
    {
      "cell_type": "code",
      "metadata": {
        "id": "s2WMqUGsuhXb",
        "colab_type": "code",
        "colab": {},
        "outputId": "3dd2a480-b072-459a-895a-c17124f1b56d"
      },
      "source": [
        "word=str(input(\"enter a word\"))\n",
        "repeat={}\n",
        "for key in word.lower():\n",
        "    \n",
        "    repeat[key] =0\n",
        "for key in word.lower():\n",
        "    repeat[key] +=1\n",
        "print(\"repeated characters are\")\n",
        "for key,value in repeat.items():\n",
        "    if value>1:\n",
        "        print(key)\n"
      ],
      "execution_count": null,
      "outputs": [
        {
          "output_type": "stream",
          "text": [
            "enter a wordsamannIta\n",
            "repeated characters are\n",
            "a\n",
            "n\n"
          ],
          "name": "stdout"
        }
      ]
    },
    {
      "cell_type": "code",
      "metadata": {
        "id": "T5bWkjUMuhXd",
        "colab_type": "code",
        "colab": {},
        "outputId": "7606b140-89fa-42f8-cd44-34861f6ec7a1"
      },
      "source": [
        "word=\"aApleee\"\n",
        "repeat={}\n",
        "for key in word.lower():\n",
        "    \n",
        "    repeat[key] =0\n",
        "for key in word.lower():\n",
        "    repeat[key] +=1\n",
        "print(\"repeated characters are\")\n",
        "for key,value in repeat.items():\n",
        "    if value>1:\n",
        "        print(key)\n",
        "\n",
        "    "
      ],
      "execution_count": null,
      "outputs": [
        {
          "output_type": "stream",
          "text": [
            "repeated characters are\n",
            "a\n",
            "e\n"
          ],
          "name": "stdout"
        }
      ]
    },
    {
      "cell_type": "code",
      "metadata": {
        "id": "Roy944HzuhXi",
        "colab_type": "code",
        "colab": {}
      },
      "source": [
        "trial={}\n",
        "trial={'a':1,'b':1}"
      ],
      "execution_count": null,
      "outputs": []
    },
    {
      "cell_type": "code",
      "metadata": {
        "id": "Gf0Td7z1uhXl",
        "colab_type": "code",
        "colab": {}
      },
      "source": [
        "trial['a'] +=1"
      ],
      "execution_count": null,
      "outputs": []
    },
    {
      "cell_type": "code",
      "metadata": {
        "id": "t2HALHQauhXn",
        "colab_type": "code",
        "colab": {},
        "outputId": "13b7431b-4bf0-4624-fcb5-b360fa014a3e"
      },
      "source": [
        "trial"
      ],
      "execution_count": null,
      "outputs": [
        {
          "output_type": "execute_result",
          "data": {
            "text/plain": [
              "{'a': 3, 'b': 1}"
            ]
          },
          "metadata": {
            "tags": []
          },
          "execution_count": 20
        }
      ]
    },
    {
      "cell_type": "code",
      "metadata": {
        "id": "Uij2p61vuhXp",
        "colab_type": "code",
        "colab": {}
      },
      "source": [
        "trial['a'] +=1"
      ],
      "execution_count": null,
      "outputs": []
    },
    {
      "cell_type": "code",
      "metadata": {
        "id": "I5bQqDmHuhXr",
        "colab_type": "code",
        "colab": {},
        "outputId": "a1c56fed-ed57-4ab6-e608-550744d7290a"
      },
      "source": [
        "trial['c'] +=1"
      ],
      "execution_count": null,
      "outputs": [
        {
          "output_type": "error",
          "ename": "KeyError",
          "evalue": "'c'",
          "traceback": [
            "\u001b[1;31m---------------------------------------------------------------------------\u001b[0m",
            "\u001b[1;31mKeyError\u001b[0m                                  Traceback (most recent call last)",
            "\u001b[1;32m<ipython-input-28-c03f352f293b>\u001b[0m in \u001b[0;36m<module>\u001b[1;34m\u001b[0m\n\u001b[1;32m----> 1\u001b[1;33m \u001b[0mtrial\u001b[0m\u001b[1;33m[\u001b[0m\u001b[1;34m'c'\u001b[0m\u001b[1;33m]\u001b[0m \u001b[1;33m+=\u001b[0m\u001b[1;36m1\u001b[0m\u001b[1;33m\u001b[0m\u001b[1;33m\u001b[0m\u001b[0m\n\u001b[0m",
            "\u001b[1;31mKeyError\u001b[0m: 'c'"
          ]
        }
      ]
    },
    {
      "cell_type": "code",
      "metadata": {
        "id": "vQg3rbTuuhXt",
        "colab_type": "code",
        "colab": {},
        "outputId": "246c98ee-33ee-43d5-c6e3-7bf87248e1d1"
      },
      "source": [
        "trial.values() >11"
      ],
      "execution_count": null,
      "outputs": [
        {
          "output_type": "error",
          "ename": "TypeError",
          "evalue": "'>' not supported between instances of 'dict_values' and 'int'",
          "traceback": [
            "\u001b[1;31m---------------------------------------------------------------------------\u001b[0m",
            "\u001b[1;31mTypeError\u001b[0m                                 Traceback (most recent call last)",
            "\u001b[1;32m<ipython-input-36-39a603050d53>\u001b[0m in \u001b[0;36m<module>\u001b[1;34m\u001b[0m\n\u001b[1;32m----> 1\u001b[1;33m \u001b[0mtrial\u001b[0m\u001b[1;33m.\u001b[0m\u001b[0mvalues\u001b[0m\u001b[1;33m(\u001b[0m\u001b[1;33m)\u001b[0m \u001b[1;33m>\u001b[0m\u001b[1;36m11\u001b[0m\u001b[1;33m\u001b[0m\u001b[1;33m\u001b[0m\u001b[0m\n\u001b[0m",
            "\u001b[1;31mTypeError\u001b[0m: '>' not supported between instances of 'dict_values' and 'int'"
          ]
        }
      ]
    },
    {
      "cell_type": "code",
      "metadata": {
        "id": "BaEXCRbOuhXv",
        "colab_type": "code",
        "colab": {}
      },
      "source": [
        ""
      ],
      "execution_count": null,
      "outputs": []
    }
  ]
}